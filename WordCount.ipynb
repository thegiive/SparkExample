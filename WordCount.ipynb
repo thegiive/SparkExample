{
 "metadata": {
  "name": "WordCount"
 },
 "nbformat": 3,
 "nbformat_minor": 0,
 "worksheets": [
  {
   "cells": [
    {
     "cell_type": "code",
     "collapsed": false,
     "input": "a = sc.textFile(\"s3n://thegiive/s3/story.txt\")\ncounts = a.flatMap(lambda line: line.split(\" \")) \\\n             .map(lambda word: (word, 1)) \\\n             .reduceByKey(lambda a, b: a + b)\ncounts.take(10)",
     "language": "python",
     "metadata": {},
     "outputs": [
      {
       "output_type": "pyout",
       "prompt_number": 1,
       "text": "[(u'', 44),\n (u'Tasmania.\"', 1),\n (u'systematic', 7),\n (u'fig,', 1),\n (u'foul', 3),\n (u'four', 31),\n (u'elevation?', 1),\n (u'sending.', 2),\n (u'sending,', 2),\n (u'views\"--which', 1)]"
      }
     ],
     "prompt_number": 1
    },
    {
     "cell_type": "code",
     "collapsed": false,
     "input": "",
     "language": "python",
     "metadata": {},
     "outputs": []
    }
   ],
   "metadata": {}
  }
 ]
}